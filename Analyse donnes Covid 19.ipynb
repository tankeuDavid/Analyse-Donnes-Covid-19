{
 "cells": [
  {
   "cell_type": "code",
   "execution_count": 1,
   "id": "40455a2e",
   "metadata": {},
   "outputs": [
    {
     "name": "stdout",
     "output_type": "stream",
     "text": [
      "Répertoire du projet :  C:\\Users\\DAVID TANKEU\\Analyse Covid 19\n"
     ]
    }
   ],
   "source": [
    "import os\n",
    "\n",
    "# Obtenir le répertoire de travail actuel\n",
    "project_directory = os.getcwd()\n",
    "\n",
    "print(\"Répertoire du projet : \", project_directory)\n",
    "\n",
    "# on'a pose la problematik on verra comment arriver a un modele et apres on verra comment le deployer\n",
    "\n",
    "#on va travailler avec la BD de train et pas de test pour le moment"
   ]
  },
  {
   "cell_type": "code",
   "execution_count": null,
   "id": "6cc5b784",
   "metadata": {},
   "outputs": [],
   "source": []
  }
 ],
 "metadata": {
  "kernelspec": {
   "display_name": "Python 3 (ipykernel)",
   "language": "python",
   "name": "python3"
  },
  "language_info": {
   "codemirror_mode": {
    "name": "ipython",
    "version": 3
   },
   "file_extension": ".py",
   "mimetype": "text/x-python",
   "name": "python",
   "nbconvert_exporter": "python",
   "pygments_lexer": "ipython3",
   "version": "3.11.5"
  }
 },
 "nbformat": 4,
 "nbformat_minor": 5
}
